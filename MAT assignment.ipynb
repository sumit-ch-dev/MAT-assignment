{
 "cells": [
  {
   "cell_type": "markdown",
   "metadata": {},
   "source": [
    "# problem 4"
   ]
  },
  {
   "cell_type": "code",
   "execution_count": 1,
   "metadata": {},
   "outputs": [
    {
     "name": "stdout",
     "output_type": "stream",
     "text": [
      "236\n",
      "11\n",
      "2\n",
      "2=this is a digital root\n"
     ]
    }
   ],
   "source": [
    "def num(n) :   \n",
    "     sum = 0   #provided sum as 0\n",
    "     for i in str(n): \n",
    "         a = int(n) % 10    #taken variable a \n",
    "         sum  = sum + a   #put the sum.\n",
    "         n = n/10\n",
    "     print(sum)    \n",
    "     if sum < 10:    \n",
    "         print(str(sum) + \"=this is a digital root\")\n",
    "     else:\n",
    "         num(sum)\n",
    "def main():\n",
    "    n=input()\n",
    "    num(n)\n",
    "main()"
   ]
  },
  {
   "cell_type": "markdown",
   "metadata": {},
   "source": [
    "# problem 1"
   ]
  },
  {
   "cell_type": "code",
   "execution_count": 2,
   "metadata": {},
   "outputs": [
    {
     "name": "stdout",
     "output_type": "stream",
     "text": [
      "Enter the lenght of the rectangle: 5\n",
      "Enter the width: 3\n",
      "*****\n",
      "*****\n",
      "*****\n"
     ]
    }
   ],
   "source": [
    "n=int(input(\"Enter the lenght of the rectangle: \"))\n",
    "m=int(input(\"Enter the width: \"))\n",
    "c=\"*\"\n",
    "def rectangle(n, m, c):\n",
    "    for a in range(m):\n",
    "        print (n*c)\n",
    "rectangle(n, m, c)"
   ]
  },
  {
   "cell_type": "markdown",
   "metadata": {},
   "source": [
    "# problem 5"
   ]
  },
  {
   "cell_type": "code",
   "execution_count": 3,
   "metadata": {},
   "outputs": [
    {
     "name": "stdout",
     "output_type": "stream",
     "text": [
      "55\n",
      "86671\n"
     ]
    }
   ],
   "source": [
    "from random import randint\n",
    "\n",
    "def random_with_N_digits(n):\n",
    "    range_start = 10**(n-1)\n",
    "    range_end = (10**n)-1\n",
    "    return randint(range_start, range_end)\n",
    "\n",
    "print random_with_N_digits(input(n))"
   ]
  },
  {
   "cell_type": "markdown",
   "metadata": {},
   "source": [
    "# problem 7"
   ]
  },
  {
   "cell_type": "code",
   "execution_count": null,
   "metadata": {},
   "outputs": [],
   "source": [
    "max=int(input(\"How many prime numbers do you want: \"))\n",
    "min=2\n",
    "while(min<=(max)):\n",
    "  for c in range(2, max):\n",
    "    if min%c==0:\n",
    "      break\n",
    "  else:\n",
    "    print min\n",
    "    min=min+1"
   ]
  },
  {
   "cell_type": "code",
   "execution_count": null,
   "metadata": {},
   "outputs": [],
   "source": []
  },
  {
   "cell_type": "code",
   "execution_count": null,
   "metadata": {},
   "outputs": [],
   "source": []
  }
 ],
 "metadata": {
  "kernelspec": {
   "display_name": "Python 2",
   "language": "python",
   "name": "python2"
  },
  "language_info": {
   "codemirror_mode": {
    "name": "ipython",
    "version": 2
   },
   "file_extension": ".py",
   "mimetype": "text/x-python",
   "name": "python",
   "nbconvert_exporter": "python",
   "pygments_lexer": "ipython2",
   "version": "2.7.15"
  }
 },
 "nbformat": 4,
 "nbformat_minor": 2
}
